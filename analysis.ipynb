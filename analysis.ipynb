{
 "metadata": {
  "language_info": {
   "codemirror_mode": {
    "name": "ipython",
    "version": 3
   },
   "file_extension": ".py",
   "mimetype": "text/x-python",
   "name": "python",
   "nbconvert_exporter": "python",
   "pygments_lexer": "ipython3",
   "version": "3.8.3-final"
  },
  "orig_nbformat": 2,
  "kernelspec": {
   "name": "python3",
   "display_name": "Python 3",
   "language": "python"
  }
 },
 "nbformat": 4,
 "nbformat_minor": 2,
 "cells": [
  {
   "source": [
    "# Exploratory Analysis will Take Place Here #"
   ],
   "cell_type": "markdown",
   "metadata": {}
  },
  {
   "cell_type": "code",
   "execution_count": null,
   "metadata": {},
   "outputs": [],
   "source": [
    "import pandas as pd\n",
    "import seaborn as sns\n",
    "import matplotlib.pyplot as plt\n",
    "import plotly.graph_objects as go \n",
    "from plotly.offline import iplot\n",
    "sns.set_style(\"darkgrid\")"
   ]
  },
  {
   "cell_type": "code",
   "execution_count": null,
   "metadata": {},
   "outputs": [],
   "source": [
    "commands = pd.read_csv(\"./data/command_data.csv\")\n",
    "messages = pd.read_csv(\"./data/chat_count.csv\")"
   ]
  },
  {
   "source": [
    "### Bar Graph: Command Usage by User ###  \n",
    "  \n",
    "This cell displays a bar graph of every chatter and the number of times they used a command. Viewers that did not chat do no appear in the plot (sorry lurkers), nor do chatters that didn't use any commands. If you only want to take the top `n` users, simply un-comment out the `[:n]` from the `order` parameter of `sns.countplot()` and replace the `n` with your desired number of users."
   ],
   "cell_type": "markdown",
   "metadata": {}
  },
  {
   "cell_type": "code",
   "execution_count": null,
   "metadata": {},
   "outputs": [],
   "source": [
    "plt.figure(figsize=(15,8))\n",
    "plt.tight_layout()\n",
    "ax = sns.countplot(\n",
    "    x = \"user\",\n",
    "    data = commands,\n",
    "    order = commands[\"user\"].value_counts().index # [:n] # for top n scorers\n",
    ")\n",
    "ax.set_title(\"Bot Command Usage by User\", fontsize = 25, fontweight = \"bold\")\n",
    "ax.set_xticklabels(ax.get_xticklabels(), rotation = 75)\n",
    "plt.savefig(\"data_viz/command_use_by_user.png\", bbox_inches = \"tight\")\n",
    "plt.show()"
   ]
  },
  {
   "source": [
    "### Bar Graph: Total Command Usage ###  \n",
    "  \n",
    "This bar graph shows total command use, regardless of user. As with the last graph, if you only want the top `n` commands, un-comment out the `[:n]` from the `order` parameter of `sns.countplot()`, and replace `n` with the desired number of command scores to visualize."
   ],
   "cell_type": "markdown",
   "metadata": {}
  },
  {
   "cell_type": "code",
   "execution_count": null,
   "metadata": {},
   "outputs": [],
   "source": [
    "plt.figure(figsize=(15,8))\n",
    "ax = sns.countplot(\n",
    "    x = \"command\",\n",
    "    data = commands,\n",
    "    order = commands[\"command\"].value_counts().index # [:n] # for top n scorers\n",
    ")\n",
    "ax.set_title(\"Bot Command Use by Command\", fontsize = 25, fontweight = \"bold\")\n",
    "ax.set_xticklabels(ax.get_xticklabels(), rotation = 75)\n",
    "plt.savefig(\"data_viz/command_use_total.png\", bbox_inches = \"tight\")\n",
    "plt.show()"
   ]
  },
  {
   "source": [
    "### Bar Graph: Total Chat Messages by User ###  \n",
    "  \n",
    "This graph shows the number of messages sent by each user. Again, non-chatters are not taken into consideration. This time, messages are counted even if a command is not used. As always, if you only want to top `n` chatters, un-comment out `[:n]` from the `order` parameter of `sns.countplot()`, and replace `n` with the desired number of chatters."
   ],
   "cell_type": "markdown",
   "metadata": {}
  },
  {
   "cell_type": "code",
   "execution_count": null,
   "metadata": {},
   "outputs": [],
   "source": [
    "plt.figure(figsize=(15,8))\n",
    "ax = sns.countplot(\n",
    "    x = \"user\",\n",
    "    data = messages,\n",
    "    order = messages[\"user\"].value_counts().index # [:n] # for top n scorers\n",
    ")\n",
    "ax.set_title(\"Total Chat Messages by User\", fontsize = 25, fontweight = \"bold\")\n",
    "ax.set_xticklabels(ax.get_xticklabels(), rotation = 75)\n",
    "plt.savefig(\"data_viz/top_chatters.png\", bbox_inches = \"tight\")\n",
    "plt.show()"
   ]
  }
 ]
}